{
 "cells": [
  {
   "cell_type": "code",
   "execution_count": 1,
   "metadata": {},
   "outputs": [],
   "source": [
    "import cv2\n",
    "import matplotlib.pyplot as plt\n",
    "import numpy as np\n",
    "from scipy import optimize\n",
    "%matplotlib inline"
   ]
  },
  {
   "cell_type": "code",
   "execution_count": 2,
   "metadata": {},
   "outputs": [],
   "source": [
    "# create a basic circle\n",
    "n = 100\n",
    "m = 150\n",
    "\n",
    "Z = np.zeros((n, m)).astype('uint8')\n",
    "for i in range(n):\n",
    "    for j in range(m):\n",
    "        if (i-n/2)**2 + (j-m/2)**2 < 20**2:\n",
    "            Z[i, j] = 1"
   ]
  },
  {
   "cell_type": "code",
   "execution_count": 3,
   "metadata": {},
   "outputs": [
    {
     "data": {
      "image/png": "[encoded data removed]",
      "text/plain": [
       "<Figure size 720x720 with 4 Axes>"
      ]
     },
     "metadata": {
      "needs_background": "light"
     },
     "output_type": "display_data"
    }
   ],
   "source": [
    "fig, ax = plt.subplots(2, 2, figsize=(10, 10))\n",
    "\n",
    "# identity transform\n",
    "M = np.array([\n",
    "    [1, 0, 0],\n",
    "    [0, 1, 0],\n",
    "    [0, 0, 1]\n",
    "]).astype('float32').flatten()[:6].reshape((2, 3))\n",
    "Zt = cv2.warpAffine(Z, M, Z.T.shape)\n",
    "ax[0, 0].imshow(Z + Zt)\n",
    "ax[0, 0].set_title('Identity')\n",
    "\n",
    "# translation\n",
    "M = np.array([\n",
    "    [1, 0, 10],\n",
    "    [0, 1, 10],\n",
    "    [0, 0, 1]\n",
    "]).astype('float32').flatten()[:6].reshape((2, 3))\n",
    "Zt = cv2.warpAffine(Z, M, Z.T.shape)\n",
    "ax[0, 1].imshow(Z + Zt)\n",
    "ax[0, 1].set_title('Translation')\n",
    "\n",
    "# scale\n",
    "M = np.array([\n",
    "    [0.75, 0, 0],\n",
    "    [0, 0.75, 0],\n",
    "    [0, 0, 1]\n",
    "]).astype('float32').flatten()[:6].reshape((2, 3))\n",
    "Zt = cv2.warpAffine(Z, M, Z.T.shape)\n",
    "ax[1, 0].imshow(Z + Zt)\n",
    "ax[1, 0].set_title('Scale')\n",
    "\n",
    "# shear\n",
    "M = np.array([\n",
    "    [1, 0.3, 0],\n",
    "    [0, 1, 0],\n",
    "    [0, 0, 1]\n",
    "]).astype('float32').flatten()[:6].reshape((2, 3))\n",
    "Zt = cv2.warpAffine(Z, M, Z.T.shape)\n",
    "ax[1, 1].imshow(Z + Zt)\n",
    "ax[1, 1].set_title('Shear')\n",
    "plt.show()"
   ]
  },
  {
   "cell_type": "code",
   "execution_count": 4,
   "metadata": {},
   "outputs": [],
   "source": [
    "# solve for the transformation matrix"
   ]
  },
  {
   "cell_type": "code",
   "execution_count": 5,
   "metadata": {},
   "outputs": [
    {
     "data": {
      "image/png": "[encoded data removed]",
      "text/plain": [
       "<Figure size 432x288 with 1 Axes>"
      ]
     },
     "metadata": {
      "needs_background": "light"
     },
     "output_type": "display_data"
    }
   ],
   "source": [
    "# create a basic circle\n",
    "Z = np.zeros((n, m)).astype('uint8')\n",
    "Zt = np.zeros((n, m)).astype('uint8')\n",
    "\n",
    "for i in range(n):\n",
    "    for j in range(m):\n",
    "        if (i-n/2)**2 + (j-m/2)**2 < 20**2:\n",
    "            Z[i, j] = 1\n",
    "        if (i-n/3)**2 + (j-m/3)**2 < 30**2:\n",
    "            Zt[i, j] = 1\n",
    "\n",
    "plt.imshow(Z + Zt)\n",
    "plt.show()"
   ]
  },
  {
   "cell_type": "code",
   "execution_count": 6,
   "metadata": {},
   "outputs": [
    {
     "name": "stderr",
     "output_type": "stream",
     "text": [
      "/anaconda3/envs/myenv/lib/python3.7/site-packages/scipy/optimize/optimize.py:2365: RuntimeWarning: overflow encountered in ulong_scalars\n",
      "  tmp2 = (xb - xc) * (fb - fa)\n",
      "/anaconda3/envs/myenv/lib/python3.7/site-packages/scipy/optimize/optimize.py:1985: RuntimeWarning: overflow encountered in ulong_scalars\n",
      "  tmp2 = (x - v) * (fx - fw)\n",
      "/anaconda3/envs/myenv/lib/python3.7/site-packages/scipy/optimize/optimize.py:1984: RuntimeWarning: overflow encountered in ulong_scalars\n",
      "  tmp1 = (x - w) * (fx - fv)\n"
     ]
    },
    {
     "data": {
      "text/plain": [
       "array([[-42.06824553,   9.05406505,  29.20556835],\n",
       "       [ 29.20556835,  30.20556835,  30.20556835]])"
      ]
     },
     "execution_count": 6,
     "metadata": {},
     "output_type": "execute_result"
    }
   ],
   "source": [
    "M0 = np.r_[1, 0, 0, 0, 1, 1]\n",
    "\n",
    "def errfun(M, Z, Zt):\n",
    "    Zw = cv2.warpAffine(Zt, M.reshape((2, 3)).astype('float32'), Zt.T.shape)\n",
    "    err = ((Z - Zw)**2).sum()\n",
    "    return err\n",
    "\n",
    "res = optimize.minimize(lambda x: errfun(x, Z, Zt), M0, method='Powell')\n",
    "res.x.reshape((2, 3))"
   ]
  },
  {
   "cell_type": "code",
   "execution_count": 7,
   "metadata": {},
   "outputs": [
    {
     "data": {
      "image/png": "[encoded data removed]",
      "text/plain": [
       "<Figure size 1080x360 with 2 Axes>"
      ]
     },
     "metadata": {
      "needs_background": "light"
     },
     "output_type": "display_data"
    }
   ],
   "source": [
    "Zw = cv2.warpAffine(Zt, res.x.reshape((2, 3)).astype('float32'), Zt.T.shape)\n",
    "\n",
    "fig, ax = plt.subplots(1, 2, figsize=(15, 5))\n",
    "ax[0].imshow(Z + Zt)\n",
    "ax[0].set_title('Original')\n",
    "\n",
    "ax[1].imshow(Z + Zw)\n",
    "ax[1].set_title('Transformed')\n",
    "plt.show()"
   ]
  },
  {
   "cell_type": "code",
   "execution_count": null,
   "metadata": {},
   "outputs": [],
   "source": []
  }
 ],
 "metadata": {
  "kernelspec": {
   "display_name": "Python 3",
   "language": "python",
   "name": "python3"
  },
  "language_info": {
   "codemirror_mode": {
    "name": "ipython",
    "version": 3
   },
   "file_extension": ".py",
   "mimetype": "text/x-python",
   "name": "python",
   "nbconvert_exporter": "python",
   "pygments_lexer": "ipython3",
   "version": "3.7.7"
  }
 },
 "nbformat": 4,
 "nbformat_minor": 4
}
