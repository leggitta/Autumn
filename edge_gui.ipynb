{
 "cells": [
  {
   "cell_type": "markdown",
   "metadata": {},
   "source": [
    "# A user interface for edge detection"
   ]
  },
  {
   "cell_type": "code",
   "execution_count": 1,
   "metadata": {},
   "outputs": [],
   "source": [
    "import cv2\n",
    "import glob\n",
    "from IPython.display import Video\n",
    "import matplotlib.pyplot as plt\n",
    "import numpy as np\n",
    "from scipy.optimize import minimize\n",
    "import sys\n",
    "from ipywidgets import interactive, IntSlider, Layout, FloatText, IntText, RadioButtons\n",
    "import os\n",
    "%matplotlib inline"
   ]
  },
  {
   "cell_type": "code",
   "execution_count": 2,
   "metadata": {},
   "outputs": [],
   "source": [
    "files = sorted(glob.glob('images/*.jpeg'))"
   ]
  },
  {
   "cell_type": "code",
   "execution_count": 3,
   "metadata": {},
   "outputs": [
    {
     "data": {
      "application/vnd.jupyter.widget-view+json": {
       "model_id": "e75bea3af22447709a62187bb7cc5ff4",
       "version_major": 2,
       "version_minor": 0
      },
      "text/plain": [
       "interactive(children=(IntText(value=100, description='T1:'), IntText(value=200, description='T2:'), RadioButto…"
      ]
     },
     "metadata": {},
     "output_type": "display_data"
    }
   ],
   "source": [
    "img = cv2.imread(files[0])\n",
    "gray = cv2.cvtColor(img,cv2.COLOR_BGR2GRAY)\n",
    "\n",
    "def f(t1, t2, a):\n",
    "    Z = cv2.Canny(gray, t1, t2, apertureSize = a)\n",
    "    fig, ax = plt.subplots(figsize=(25, 10))\n",
    "    ax.imshow(np.c_[gray, Z], cmap='gray')\n",
    "    ax.set_aspect(1)\n",
    "    plt.show()\n",
    "\n",
    "lout = Layout(width='1000px', height='50px')\n",
    "interactive_plot = interactive(\n",
    "    f, \n",
    "    t1 = IntText(\n",
    "        value = 100,\n",
    "        description='T1:',\n",
    "        disabled=False\n",
    "    ),\n",
    "    t2 = IntText(\n",
    "        value = 200,\n",
    "        description='T2:',\n",
    "        disabled=False\n",
    "    ),\n",
    "    a = RadioButtons(\n",
    "        options=[3, 5, 7],\n",
    "        description='aperture:',\n",
    "        disabled=False\n",
    "    )\n",
    ")\n",
    "output = interactive_plot.children[-1]\n",
    "interactive_plot"
   ]
  },
  {
   "cell_type": "code",
   "execution_count": null,
   "metadata": {},
   "outputs": [],
   "source": []
  }
 ],
 "metadata": {
  "kernelspec": {
   "display_name": "Python 3",
   "language": "python",
   "name": "python3"
  },
  "language_info": {
   "codemirror_mode": {
    "name": "ipython",
    "version": 3
   },
   "file_extension": ".py",
   "mimetype": "text/x-python",
   "name": "python",
   "nbconvert_exporter": "python",
   "pygments_lexer": "ipython3",
   "version": "3.7.7"
  }
 },
 "nbformat": 4,
 "nbformat_minor": 4
}
