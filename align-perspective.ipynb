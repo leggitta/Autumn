{
 "cells": [
  {
   "cell_type": "code",
   "execution_count": 1,
   "metadata": {},
   "outputs": [],
   "source": [
    "import cv2\n",
    "import glob\n",
    "from IPython.display import HTML\n",
    "from matplotlib.collections import PatchCollection\n",
    "from matplotlib.patches import Polygon\n",
    "import matplotlib.pyplot as plt\n",
    "import numpy as np\n",
    "import pandas as pd\n",
    "import subprocess\n",
    "import sys\n",
    "%matplotlib inline"
   ]
  },
  {
   "cell_type": "code",
   "execution_count": 2,
   "metadata": {
    "scrolled": false
   },
   "outputs": [],
   "source": [
    "# repeat for all images\n",
    "anchors = pd.read_csv('points.csv', delimiter=';').set_index('fname')\n",
    "npts = 5\n",
    "\n",
    "# index image\n",
    "f0 = 'images/IMG_1001.jpeg'\n",
    "z0 = cv2.imread(f0)\n",
    "h, w, _ = z0.shape\n",
    "pt0 = anchors.loc[f0].values.reshape((npts, 2))\n",
    "\n",
    "pts = np.array(np.c_[pt0[:, 0], h - pt0[:, 1]].tolist(), np.int32)\n",
    "pts_0 = pts.reshape((-1, 1, 2))\n",
    "zt0 = cv2.polylines(z0, [pts_0], True, (0, 0, 255), thickness=10)\n",
    "m0 = np.c_[pts_0[:, 0], np.ones(npts)]\n",
    "\n",
    "z_all = []\n",
    "zw_all = []\n",
    "\n",
    "plot = False\n",
    "\n",
    "files = sorted(glob.glob('images/*.jpeg'))\n",
    "\n",
    "for f1 in files:\n",
    "\n",
    "    z1 = cv2.imread(f1)\n",
    "    z_all.append(z1)\n",
    "    \n",
    "    pt1 = anchors.loc[f1].values.reshape((npts, 2))\n",
    "\n",
    "    pts = np.array(np.c_[pt1[:, 0], h - pt1[:, 1]].tolist(), np.int32)\n",
    "    pts_1 = pts.reshape((-1, 1, 2))\n",
    "    #zt1 = cv2.polylines(z1, [pts_1], True, (0, 0, 255), thickness=10)\n",
    "\n",
    "    # compute transformation\n",
    "    p0 = pts_0[1:5, 0].astype('float32')\n",
    "    p1 = pts_1[1:5, 0].astype('float32')\n",
    "\n",
    "    m = cv2.getPerspectiveTransform(p1, p0)\n",
    "    zw = cv2.warpPerspective(z1, m, (z0.shape[1], z0.shape[0]))\n",
    "    zw_all.append(zw)\n",
    "    \n",
    "    if plot:\n",
    "        zz = ((zw.astype('float') + z0.astype('float'))/2).astype('uint8')\n",
    "        fig, ax = plt.subplots(figsize=(7, 7))\n",
    "        ax.imshow(zz[:, :, ::-1])\n",
    "        plt.show()"
   ]
  },
  {
   "cell_type": "code",
   "execution_count": 3,
   "metadata": {},
   "outputs": [
    {
     "data": {
      "text/html": [
       "<img src=\"./autumn.gif\">"
      ],
      "text/plain": [
       "<IPython.core.display.HTML object>"
      ]
     },
     "execution_count": 3,
     "metadata": {},
     "output_type": "execute_result"
    }
   ],
   "source": [
    "subprocess.call('rm autumn.gif', shell=True)\n",
    "\n",
    "scale = 3\n",
    "\n",
    "for i, z in enumerate(zw_all):\n",
    "    z = z[200:-500, 500:-200]\n",
    "    h, w, _ = z.shape\n",
    "    z = cv2.resize(z, (w // scale, h // scale))\n",
    "    \n",
    "    fname = files[i].split('_')[-1].rstrip('.jpeg')\n",
    "    fname = '%s-%s-2020' % (fname[:2], fname[-2:])\n",
    "    z = cv2.putText(z, '%s' % fname, (50, 50), cv2.FONT_HERSHEY_SIMPLEX,  \n",
    "                   1, (255, 255, 255), 2, cv2.LINE_AA)\n",
    "    \n",
    "    outfile = 'tmp_%03d.jpeg' % i\n",
    "    cv2.imwrite(outfile, z)\n",
    "\n",
    "cmd = 'convert -delay 1x7 `seq -f tmp_%%03g.jpeg 0 1 %d` -coalesce -loop 0 autumn.gif' % i\n",
    "subprocess.call(cmd, shell=True)\n",
    "subprocess.call('rm tmp*.jpeg', shell=True)\n",
    "HTML('<img src=\"./autumn.gif\">')"
   ]
  },
  {
   "cell_type": "code",
   "execution_count": null,
   "metadata": {},
   "outputs": [],
   "source": []
  }
 ],
 "metadata": {
  "kernelspec": {
   "display_name": "Python 3",
   "language": "python",
   "name": "python3"
  },
  "language_info": {
   "codemirror_mode": {
    "name": "ipython",
    "version": 3
   },
   "file_extension": ".py",
   "mimetype": "text/x-python",
   "name": "python",
   "nbconvert_exporter": "python",
   "pygments_lexer": "ipython3",
   "version": "3.7.9"
  }
 },
 "nbformat": 4,
 "nbformat_minor": 4
}
